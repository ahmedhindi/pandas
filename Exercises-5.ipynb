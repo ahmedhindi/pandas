{
 "cells": [
  {
   "cell_type": "code",
   "execution_count": 1,
   "metadata": {
    "collapsed": false,
    "nbpresent": {
     "id": "ed367da6-b427-41c3-acff-549c160ec5d4"
    }
   },
   "outputs": [],
   "source": [
    "%matplotlib inline\n",
    "import matplotlib.pyplot as plt\n",
    "plt.style.use('fivethirtyeight')\n",
    "import pandas as pd"
   ]
  },
  {
   "cell_type": "code",
   "execution_count": 2,
   "metadata": {
    "collapsed": false,
    "nbpresent": {
     "id": "6a8847aa-ad15-41fa-b75d-03f7ea12dc53"
    }
   },
   "outputs": [
    {
     "data": {
      "text/html": [
       "<style>body {\n",
       "    margin: 0;\n",
       "    font-family: Helvetica;\n",
       "}\n",
       "table.dataframe {\n",
       "    border-collapse: collapse;\n",
       "    border: none;\n",
       "}\n",
       "table.dataframe tr {\n",
       "    border: none;\n",
       "}\n",
       "table.dataframe td, table.dataframe th {\n",
       "    margin: 0;\n",
       "    border: 1px solid white;\n",
       "    padding-left: 0.25em;\n",
       "    padding-right: 0.25em;\n",
       "}\n",
       "table.dataframe th:not(:empty) {\n",
       "    background-color: #2e8ef2;\n",
       "    text-align: left;\n",
       "    font-weight: normal;\n",
       "}\n",
       "table.dataframe tr:nth-child(2) th:empty {\n",
       "    border-left: none;\n",
       "    border-right: 1px dashed #888;\n",
       "}\n",
       "table.dataframe td {\n",
       "    border: 2px solid rgba(#c2b8ff,.84);\n",
       "    background-color: #cafbf2;\n",
       "}\n",
       "h3 {\n",
       "    color: white;\n",
       "    background-color: black;\n",
       "    padding: 0.5em;\n",
       "</style>"
      ],
      "text/plain": [
       "<IPython.core.display.HTML object>"
      ]
     },
     "execution_count": 2,
     "metadata": {},
     "output_type": "execute_result"
    }
   ],
   "source": [
    "from IPython.core.display import HTML\n",
    "css = open('style-table.css').read() + open('style-notebook.css').read()\n",
    "HTML('<style>{}</style>'.format(css))"
   ]
  },
  {
   "cell_type": "code",
   "execution_count": 3,
   "metadata": {
    "collapsed": false,
    "nbpresent": {
     "id": "a9189101-f11e-436c-ac01-cc2269d0d7e4"
    }
   },
   "outputs": [
    {
     "data": {
      "text/html": [
       "<div>\n",
       "<table border=\"1\" class=\"dataframe\">\n",
       "  <thead>\n",
       "    <tr style=\"text-align: right;\">\n",
       "      <th></th>\n",
       "      <th>title</th>\n",
       "      <th>year</th>\n",
       "      <th>name</th>\n",
       "      <th>type</th>\n",
       "      <th>character</th>\n",
       "      <th>n</th>\n",
       "    </tr>\n",
       "  </thead>\n",
       "  <tbody>\n",
       "    <tr>\n",
       "      <th>0</th>\n",
       "      <td>Closet Monster</td>\n",
       "      <td>2015</td>\n",
       "      <td>Buffy #1</td>\n",
       "      <td>actor</td>\n",
       "      <td>Buffy 4</td>\n",
       "      <td>NaN</td>\n",
       "    </tr>\n",
       "    <tr>\n",
       "      <th>1</th>\n",
       "      <td>Suuri illusioni</td>\n",
       "      <td>1985</td>\n",
       "      <td>Homo $</td>\n",
       "      <td>actor</td>\n",
       "      <td>Guests</td>\n",
       "      <td>22.0</td>\n",
       "    </tr>\n",
       "    <tr>\n",
       "      <th>2</th>\n",
       "      <td>Battle of the Sexes</td>\n",
       "      <td>2017</td>\n",
       "      <td>$hutter</td>\n",
       "      <td>actor</td>\n",
       "      <td>Bobby Riggs Fan</td>\n",
       "      <td>10.0</td>\n",
       "    </tr>\n",
       "    <tr>\n",
       "      <th>3</th>\n",
       "      <td>Secret in Their Eyes</td>\n",
       "      <td>2015</td>\n",
       "      <td>$hutter</td>\n",
       "      <td>actor</td>\n",
       "      <td>2002 Dodger Fan</td>\n",
       "      <td>NaN</td>\n",
       "    </tr>\n",
       "    <tr>\n",
       "      <th>4</th>\n",
       "      <td>Steve Jobs</td>\n",
       "      <td>2015</td>\n",
       "      <td>$hutter</td>\n",
       "      <td>actor</td>\n",
       "      <td>1988 Opera House Patron</td>\n",
       "      <td>NaN</td>\n",
       "    </tr>\n",
       "  </tbody>\n",
       "</table>\n",
       "</div>"
      ],
      "text/plain": [
       "                  title  year      name   type                character     n\n",
       "0        Closet Monster  2015  Buffy #1  actor                  Buffy 4   NaN\n",
       "1       Suuri illusioni  1985    Homo $  actor                   Guests  22.0\n",
       "2   Battle of the Sexes  2017   $hutter  actor          Bobby Riggs Fan  10.0\n",
       "3  Secret in Their Eyes  2015   $hutter  actor          2002 Dodger Fan   NaN\n",
       "4            Steve Jobs  2015   $hutter  actor  1988 Opera House Patron   NaN"
      ]
     },
     "execution_count": 3,
     "metadata": {},
     "output_type": "execute_result"
    }
   ],
   "source": [
    "cast = pd.DataFrame.from_csv('data/cast.csv', index_col=None)\n",
    "cast.head()"
   ]
  },
  {
   "cell_type": "code",
   "execution_count": 4,
   "metadata": {
    "collapsed": false,
    "nbpresent": {
     "id": "e19ec8dd-e073-4eca-bfdc-7ddb6e036f7c"
    }
   },
   "outputs": [
    {
     "data": {
      "text/html": [
       "<div>\n",
       "<table border=\"1\" class=\"dataframe\">\n",
       "  <thead>\n",
       "    <tr style=\"text-align: right;\">\n",
       "      <th></th>\n",
       "      <th>title</th>\n",
       "      <th>year</th>\n",
       "      <th>country</th>\n",
       "      <th>date</th>\n",
       "    </tr>\n",
       "  </thead>\n",
       "  <tbody>\n",
       "    <tr>\n",
       "      <th>0</th>\n",
       "      <td>#73, Shaanthi Nivaasa</td>\n",
       "      <td>2007</td>\n",
       "      <td>India</td>\n",
       "      <td>2007-06-15</td>\n",
       "    </tr>\n",
       "    <tr>\n",
       "      <th>1</th>\n",
       "      <td>#Beings</td>\n",
       "      <td>2015</td>\n",
       "      <td>Romania</td>\n",
       "      <td>2015-01-29</td>\n",
       "    </tr>\n",
       "    <tr>\n",
       "      <th>2</th>\n",
       "      <td>#Declimax</td>\n",
       "      <td>2018</td>\n",
       "      <td>Netherlands</td>\n",
       "      <td>2018-01-21</td>\n",
       "    </tr>\n",
       "    <tr>\n",
       "      <th>3</th>\n",
       "      <td>#Ewankosau saranghaeyo</td>\n",
       "      <td>2015</td>\n",
       "      <td>Philippines</td>\n",
       "      <td>2015-01-21</td>\n",
       "    </tr>\n",
       "    <tr>\n",
       "      <th>4</th>\n",
       "      <td>#Horror</td>\n",
       "      <td>2015</td>\n",
       "      <td>USA</td>\n",
       "      <td>2015-11-20</td>\n",
       "    </tr>\n",
       "  </tbody>\n",
       "</table>\n",
       "</div>"
      ],
      "text/plain": [
       "                    title  year      country       date\n",
       "0   #73, Shaanthi Nivaasa  2007        India 2007-06-15\n",
       "1                 #Beings  2015      Romania 2015-01-29\n",
       "2               #Declimax  2018  Netherlands 2018-01-21\n",
       "3  #Ewankosau saranghaeyo  2015  Philippines 2015-01-21\n",
       "4                 #Horror  2015          USA 2015-11-20"
      ]
     },
     "execution_count": 4,
     "metadata": {},
     "output_type": "execute_result"
    }
   ],
   "source": [
    "release_dates = pd.DataFrame.from_csv('data/release_dates.csv', index_col=None,\n",
    "                                      parse_dates=['date'], infer_datetime_format=True)\n",
    "release_dates.head()"
   ]
  },
  {
   "cell_type": "code",
   "execution_count": null,
   "metadata": {
    "collapsed": true,
    "nbpresent": {
     "id": "fd615cbe-c658-4f91-9ce1-43547397e2a7"
    }
   },
   "outputs": [],
   "source": []
  },
  {
   "cell_type": "markdown",
   "metadata": {
    "collapsed": true,
    "nbpresent": {
     "id": "bc6ffe25-7f67-4b89-b633-559391e6e7eb"
    }
   },
   "source": [
    "### Make a bar plot of the months in which movies with \"Christmas\" in their title tend to be released in the USA."
   ]
  },
  {
   "cell_type": "code",
   "execution_count": 9,
   "metadata": {
    "collapsed": false,
    "nbpresent": {
     "id": "af4054ba-2e27-4bd3-93fe-2a46bf79751c"
    }
   },
   "outputs": [
    {
     "data": {
      "text/html": [
       "<div>\n",
       "<table border=\"1\" class=\"dataframe\">\n",
       "  <thead>\n",
       "    <tr style=\"text-align: right;\">\n",
       "      <th></th>\n",
       "      <th>title</th>\n",
       "      <th>year</th>\n",
       "      <th>country</th>\n",
       "      <th>date</th>\n",
       "    </tr>\n",
       "  </thead>\n",
       "  <tbody>\n",
       "    <tr>\n",
       "      <th>0</th>\n",
       "      <td>#73, Shaanthi Nivaasa</td>\n",
       "      <td>2007</td>\n",
       "      <td>India</td>\n",
       "      <td>2007-06-15</td>\n",
       "    </tr>\n",
       "    <tr>\n",
       "      <th>1</th>\n",
       "      <td>#Beings</td>\n",
       "      <td>2015</td>\n",
       "      <td>Romania</td>\n",
       "      <td>2015-01-29</td>\n",
       "    </tr>\n",
       "    <tr>\n",
       "      <th>2</th>\n",
       "      <td>#Declimax</td>\n",
       "      <td>2018</td>\n",
       "      <td>Netherlands</td>\n",
       "      <td>2018-01-21</td>\n",
       "    </tr>\n",
       "    <tr>\n",
       "      <th>3</th>\n",
       "      <td>#Ewankosau saranghaeyo</td>\n",
       "      <td>2015</td>\n",
       "      <td>Philippines</td>\n",
       "      <td>2015-01-21</td>\n",
       "    </tr>\n",
       "    <tr>\n",
       "      <th>4</th>\n",
       "      <td>#Horror</td>\n",
       "      <td>2015</td>\n",
       "      <td>USA</td>\n",
       "      <td>2015-11-20</td>\n",
       "    </tr>\n",
       "  </tbody>\n",
       "</table>\n",
       "</div>"
      ],
      "text/plain": [
       "                    title  year      country       date\n",
       "0   #73, Shaanthi Nivaasa  2007        India 2007-06-15\n",
       "1                 #Beings  2015      Romania 2015-01-29\n",
       "2               #Declimax  2018  Netherlands 2018-01-21\n",
       "3  #Ewankosau saranghaeyo  2015  Philippines 2015-01-21\n",
       "4                 #Horror  2015          USA 2015-11-20"
      ]
     },
     "execution_count": 9,
     "metadata": {},
     "output_type": "execute_result"
    }
   ],
   "source": [
    "release_dates.head()"
   ]
  },
  {
   "cell_type": "code",
   "execution_count": 18,
   "metadata": {
    "collapsed": false,
    "nbpresent": {
     "id": "03255c8f-31ae-490f-90c7-22eecbeb8053"
    }
   },
   "outputs": [
    {
     "data": {
      "text/plain": [
       "<matplotlib.axes._subplots.AxesSubplot at 0x7faf359fca20>"
      ]
     },
     "execution_count": 18,
     "metadata": {},
     "output_type": "execute_result"
    },
    {
     "data": {
      "image/png": "[encoded data removed]",
      "text/plain": [
       "<matplotlib.figure.Figure at 0x7faf36242be0>"
      ]
     },
     "metadata": {},
     "output_type": "display_data"
    }
   ],
   "source": [
    "r = release_dates[(release_dates.title.str.contains('Christmas')) &\n",
    "                  (release_dates.country == 'USA')]\n",
    "\n",
    "r.date.dt.month.value_counts().sort_index().plot(kind='bar')"
   ]
  },
  {
   "cell_type": "markdown",
   "metadata": {
    "collapsed": true,
    "nbpresent": {
     "id": "4b5145fb-cf74-48fd-b9bf-5ecaffa44987"
    }
   },
   "source": [
    "### Make a bar plot of the months in which movies whose titles start with \"The Hobbit\" are released in the USA."
   ]
  },
  {
   "cell_type": "code",
   "execution_count": 19,
   "metadata": {
    "collapsed": false,
    "nbpresent": {
     "id": "d600dd49-9db3-4ab6-bac0-cc9104ce573c"
    }
   },
   "outputs": [
    {
     "data": {
      "text/plain": [
       "<matplotlib.axes._subplots.AxesSubplot at 0x7faf3543d978>"
      ]
     },
     "execution_count": 19,
     "metadata": {},
     "output_type": "execute_result"
    },
    {
     "data": {
      "image/png": "[encoded data removed]",
      "text/plain": [
       "<matplotlib.figure.Figure at 0x7faf3544a860>"
      ]
     },
     "metadata": {},
     "output_type": "display_data"
    }
   ],
   "source": [
    "r = release_dates[(release_dates.title.str.startswith('The Hobbit')) &\n",
    "                  (release_dates.country == 'USA')]\n",
    "\n",
    "r.date.dt.month.value_counts().sort_index().plot(kind='bar')"
   ]
  },
  {
   "cell_type": "code",
   "execution_count": null,
   "metadata": {
    "collapsed": true,
    "nbpresent": {
     "id": "7209e4f9-8a53-49d6-ad2c-53748a077bf7"
    }
   },
   "outputs": [],
   "source": []
  },
  {
   "cell_type": "markdown",
   "metadata": {
    "collapsed": true,
    "nbpresent": {
     "id": "d2f2d706-253e-4963-a7ba-993991387669"
    }
   },
   "source": [
    "### Make a bar plot of the day of the week on which movies with \"Romance\" in their title tend to be released in the USA."
   ]
  },
  {
   "cell_type": "code",
   "execution_count": 20,
   "metadata": {
    "collapsed": false,
    "nbpresent": {
     "id": "d087370c-6ca2-4ff0-af41-7b0cc7efd674"
    }
   },
   "outputs": [
    {
     "data": {
      "text/plain": [
       "<matplotlib.axes._subplots.AxesSubplot at 0x7faf356dddd8>"
      ]
     },
     "execution_count": 20,
     "metadata": {},
     "output_type": "execute_result"
    },
    {
     "data": {
      "image/png": "[encoded data removed]",
      "text/plain": [
       "<matplotlib.figure.Figure at 0x7faf353a64a8>"
      ]
     },
     "metadata": {},
     "output_type": "display_data"
    }
   ],
   "source": [
    "r = release_dates[(release_dates.title.str.contains('Romance')) &\n",
    "                  (release_dates.country == 'USA')]\n",
    "\n",
    "r.date.dt.dayofweek.value_counts().sort_index().plot(kind='bar')"
   ]
  },
  {
   "cell_type": "code",
   "execution_count": null,
   "metadata": {
    "collapsed": true,
    "nbpresent": {
     "id": "cb0b1c1c-13c7-4a55-889c-3a557ff7f969"
    }
   },
   "outputs": [],
   "source": []
  },
  {
   "cell_type": "markdown",
   "metadata": {
    "collapsed": true,
    "nbpresent": {
     "id": "94615c56-aa7b-4390-8336-5475e87d35a5"
    }
   },
   "source": [
    "### Make a bar plot of the day of the week on which movies with \"Action\" in their title tend to be released in the USA."
   ]
  },
  {
   "cell_type": "code",
   "execution_count": 21,
   "metadata": {
    "collapsed": false,
    "nbpresent": {
     "id": "2203fb3a-0f22-4645-bc34-9fe803387c7b"
    }
   },
   "outputs": [
    {
     "data": {
      "text/plain": [
       "<matplotlib.axes._subplots.AxesSubplot at 0x7faf3539e9e8>"
      ]
     },
     "execution_count": 21,
     "metadata": {},
     "output_type": "execute_result"
    },
    {
     "data": {
      "image/png": "[encoded data removed]",
      "text/plain": [
       "<matplotlib.figure.Figure at 0x7faf35326d30>"
      ]
     },
     "metadata": {},
     "output_type": "display_data"
    }
   ],
   "source": [
    "r = release_dates[(release_dates.title.str.contains('Action')) &\n",
    "                  (release_dates.country == 'USA')]\n",
    "\n",
    "r.date.dt.dayofweek.value_counts().sort_index().plot(kind='bar')"
   ]
  },
  {
   "cell_type": "code",
   "execution_count": null,
   "metadata": {
    "collapsed": true,
    "nbpresent": {
     "id": "c979b7f6-7e66-4917-b588-ae75562eb3dc"
    }
   },
   "outputs": [],
   "source": []
  },
  {
   "cell_type": "markdown",
   "metadata": {
    "collapsed": true,
    "nbpresent": {
     "id": "52a0194a-fadb-4845-a71f-899cc7c3cfdb"
    }
   },
   "source": [
    "### On which date was each Judi Dench movie from the 1990s released in the USA?"
   ]
  },
  {
   "cell_type": "code",
   "execution_count": 26,
   "metadata": {
    "collapsed": false,
    "nbpresent": {
     "id": "2b802a93-4dd8-495c-89fe-99ac7e731f1e"
    }
   },
   "outputs": [],
   "source": [
    "c = cast[(cast.name.str.contains('Judi Dench'))]\n",
    "c = c.merge(release_dates,on='title')\n"
   ]
  },
  {
   "cell_type": "code",
   "execution_count": 30,
   "metadata": {
    "collapsed": false
   },
   "outputs": [
    {
     "data": {
      "text/html": [
       "<div>\n",
       "<table border=\"1\" class=\"dataframe\">\n",
       "  <thead>\n",
       "    <tr style=\"text-align: right;\">\n",
       "      <th></th>\n",
       "      <th>title</th>\n",
       "      <th>year_x</th>\n",
       "      <th>name</th>\n",
       "      <th>type</th>\n",
       "      <th>character</th>\n",
       "      <th>n</th>\n",
       "      <th>year_y</th>\n",
       "      <th>country</th>\n",
       "      <th>date</th>\n",
       "    </tr>\n",
       "  </thead>\n",
       "  <tbody>\n",
       "    <tr>\n",
       "      <th>357</th>\n",
       "      <td>Hamlet</td>\n",
       "      <td>1996</td>\n",
       "      <td>Judi Dench</td>\n",
       "      <td>actress</td>\n",
       "      <td>Hecuba</td>\n",
       "      <td>12.0</td>\n",
       "      <td>1910</td>\n",
       "      <td>USA</td>\n",
       "      <td>1910-02-02</td>\n",
       "    </tr>\n",
       "    <tr>\n",
       "      <th>586</th>\n",
       "      <td>Jane Eyre</td>\n",
       "      <td>2011</td>\n",
       "      <td>Judi Dench</td>\n",
       "      <td>actress</td>\n",
       "      <td>Mrs. Fairfax</td>\n",
       "      <td>18.0</td>\n",
       "      <td>1910</td>\n",
       "      <td>USA</td>\n",
       "      <td>1910-05-06</td>\n",
       "    </tr>\n",
       "    <tr>\n",
       "      <th>358</th>\n",
       "      <td>Hamlet</td>\n",
       "      <td>1996</td>\n",
       "      <td>Judi Dench</td>\n",
       "      <td>actress</td>\n",
       "      <td>Hecuba</td>\n",
       "      <td>12.0</td>\n",
       "      <td>1911</td>\n",
       "      <td>Denmark</td>\n",
       "      <td>1911-02-27</td>\n",
       "    </tr>\n",
       "    <tr>\n",
       "      <th>359</th>\n",
       "      <td>Hamlet</td>\n",
       "      <td>1996</td>\n",
       "      <td>Judi Dench</td>\n",
       "      <td>actress</td>\n",
       "      <td>Hecuba</td>\n",
       "      <td>12.0</td>\n",
       "      <td>1911</td>\n",
       "      <td>UK</td>\n",
       "      <td>1911-03-18</td>\n",
       "    </tr>\n",
       "    <tr>\n",
       "      <th>360</th>\n",
       "      <td>Hamlet</td>\n",
       "      <td>1996</td>\n",
       "      <td>Judi Dench</td>\n",
       "      <td>actress</td>\n",
       "      <td>Hecuba</td>\n",
       "      <td>12.0</td>\n",
       "      <td>1911</td>\n",
       "      <td>USA</td>\n",
       "      <td>1911-04-15</td>\n",
       "    </tr>\n",
       "    <tr>\n",
       "      <th>361</th>\n",
       "      <td>Hamlet</td>\n",
       "      <td>1996</td>\n",
       "      <td>Judi Dench</td>\n",
       "      <td>actress</td>\n",
       "      <td>Hecuba</td>\n",
       "      <td>12.0</td>\n",
       "      <td>1921</td>\n",
       "      <td>Finland</td>\n",
       "      <td>1921-01-10</td>\n",
       "    </tr>\n",
       "    <tr>\n",
       "      <th>362</th>\n",
       "      <td>Hamlet</td>\n",
       "      <td>1996</td>\n",
       "      <td>Judi Dench</td>\n",
       "      <td>actress</td>\n",
       "      <td>Hecuba</td>\n",
       "      <td>12.0</td>\n",
       "      <td>1921</td>\n",
       "      <td>Denmark</td>\n",
       "      <td>1921-01-26</td>\n",
       "    </tr>\n",
       "  </tbody>\n",
       "</table>\n",
       "</div>"
      ],
      "text/plain": [
       "         title  year_x        name     type     character     n  year_y  \\\n",
       "357     Hamlet    1996  Judi Dench  actress        Hecuba  12.0    1910   \n",
       "586  Jane Eyre    2011  Judi Dench  actress  Mrs. Fairfax  18.0    1910   \n",
       "358     Hamlet    1996  Judi Dench  actress        Hecuba  12.0    1911   \n",
       "359     Hamlet    1996  Judi Dench  actress        Hecuba  12.0    1911   \n",
       "360     Hamlet    1996  Judi Dench  actress        Hecuba  12.0    1911   \n",
       "361     Hamlet    1996  Judi Dench  actress        Hecuba  12.0    1921   \n",
       "362     Hamlet    1996  Judi Dench  actress        Hecuba  12.0    1921   \n",
       "\n",
       "     country       date  \n",
       "357      USA 1910-02-02  \n",
       "586      USA 1910-05-06  \n",
       "358  Denmark 1911-02-27  \n",
       "359       UK 1911-03-18  \n",
       "360      USA 1911-04-15  \n",
       "361  Finland 1921-01-10  \n",
       "362  Denmark 1921-01-26  "
      ]
     },
     "execution_count": 30,
     "metadata": {},
     "output_type": "execute_result"
    }
   ],
   "source": [
    "c.sort_values('date').head(7)"
   ]
  },
  {
   "cell_type": "code",
   "execution_count": null,
   "metadata": {
    "collapsed": true,
    "nbpresent": {
     "id": "ae8d5bb1-25d3-4a48-bbe1-7990b987465b"
    }
   },
   "outputs": [],
   "source": []
  },
  {
   "cell_type": "markdown",
   "metadata": {
    "collapsed": true,
    "nbpresent": {
     "id": "33a964bc-2f75-4d66-af87-afc4e2df1a05"
    }
   },
   "source": [
    "### In which months do films with Judi Dench tend to be released in the USA?"
   ]
  },
  {
   "cell_type": "code",
   "execution_count": 32,
   "metadata": {
    "collapsed": false,
    "nbpresent": {
     "id": "4c0b078a-8de6-4dd4-bcab-be3b5c9660f2"
    }
   },
   "outputs": [
    {
     "data": {
      "text/plain": [
       "<matplotlib.axes._subplots.AxesSubplot at 0x7faf352dbf28>"
      ]
     },
     "execution_count": 32,
     "metadata": {},
     "output_type": "execute_result"
    },
    {
     "data": {
      "image/png": "[encoded data removed]",
      "text/plain": [
       "<matplotlib.figure.Figure at 0x7faf50b58400>"
      ]
     },
     "metadata": {},
     "output_type": "display_data"
    }
   ],
   "source": [
    "c['m'] = c.date.dt.month\n",
    "c.m.value_counts().sort_values().plot(kind='bar')"
   ]
  },
  {
   "cell_type": "code",
   "execution_count": null,
   "metadata": {
    "collapsed": true,
    "nbpresent": {
     "id": "dad739b0-9c24-4917-8747-5984117926ee"
    }
   },
   "outputs": [],
   "source": []
  },
  {
   "cell_type": "markdown",
   "metadata": {
    "collapsed": true,
    "nbpresent": {
     "id": "eff3dbb9-bddc-49ee-a5dc-ca9ad175f309"
    }
   },
   "source": [
    "### In which months do films with Tom Cruise tend to be released in the USA?"
   ]
  },
  {
   "cell_type": "code",
   "execution_count": 33,
   "metadata": {
    "collapsed": true,
    "nbpresent": {
     "id": "5b517dc5-4518-47a4-b910-4cc1fa7e7058"
    }
   },
   "outputs": [],
   "source": [
    "c = cast[(cast.name.str.contains('Tom Cruise'))]\n",
    "r = release_dates[release_dates.country == 'USA']\n",
    "c = c.merge(r,on='title')\n",
    "\n"
   ]
  },
  {
   "cell_type": "code",
   "execution_count": 34,
   "metadata": {
    "collapsed": false,
    "nbpresent": {
     "id": "305ec04c-11b1-45ec-bc87-25adc4b23b30"
    }
   },
   "outputs": [
    {
     "data": {
      "text/html": [
       "<div>\n",
       "<table border=\"1\" class=\"dataframe\">\n",
       "  <thead>\n",
       "    <tr style=\"text-align: right;\">\n",
       "      <th></th>\n",
       "      <th>title</th>\n",
       "      <th>year_x</th>\n",
       "      <th>name</th>\n",
       "      <th>type</th>\n",
       "      <th>character</th>\n",
       "      <th>n</th>\n",
       "      <th>year_y</th>\n",
       "      <th>country</th>\n",
       "      <th>date</th>\n",
       "    </tr>\n",
       "  </thead>\n",
       "  <tbody>\n",
       "    <tr>\n",
       "      <th>0</th>\n",
       "      <td>A Few Good Men</td>\n",
       "      <td>1992</td>\n",
       "      <td>Tom Cruise</td>\n",
       "      <td>actor</td>\n",
       "      <td>Lt. Daniel Kaffee</td>\n",
       "      <td>1.0</td>\n",
       "      <td>1992</td>\n",
       "      <td>USA</td>\n",
       "      <td>1992-12-11</td>\n",
       "    </tr>\n",
       "    <tr>\n",
       "      <th>1</th>\n",
       "      <td>All the Right Moves</td>\n",
       "      <td>1983</td>\n",
       "      <td>Tom Cruise</td>\n",
       "      <td>actor</td>\n",
       "      <td>Stefen Djordjevic</td>\n",
       "      <td>1.0</td>\n",
       "      <td>1983</td>\n",
       "      <td>USA</td>\n",
       "      <td>1983-10-21</td>\n",
       "    </tr>\n",
       "    <tr>\n",
       "      <th>2</th>\n",
       "      <td>American Made</td>\n",
       "      <td>2017</td>\n",
       "      <td>Tom Cruise</td>\n",
       "      <td>actor</td>\n",
       "      <td>Barry Seal</td>\n",
       "      <td>NaN</td>\n",
       "      <td>2017</td>\n",
       "      <td>USA</td>\n",
       "      <td>2017-09-29</td>\n",
       "    </tr>\n",
       "    <tr>\n",
       "      <th>3</th>\n",
       "      <td>August</td>\n",
       "      <td>2008</td>\n",
       "      <td>Tom Cruise</td>\n",
       "      <td>actor</td>\n",
       "      <td>Himself</td>\n",
       "      <td>NaN</td>\n",
       "      <td>1996</td>\n",
       "      <td>USA</td>\n",
       "      <td>1996-04-19</td>\n",
       "    </tr>\n",
       "    <tr>\n",
       "      <th>4</th>\n",
       "      <td>Austin Powers in Goldmember</td>\n",
       "      <td>2002</td>\n",
       "      <td>Tom Cruise</td>\n",
       "      <td>actor</td>\n",
       "      <td>Himself</td>\n",
       "      <td>81.0</td>\n",
       "      <td>2002</td>\n",
       "      <td>USA</td>\n",
       "      <td>2002-07-26</td>\n",
       "    </tr>\n",
       "  </tbody>\n",
       "</table>\n",
       "</div>"
      ],
      "text/plain": [
       "                         title  year_x        name   type          character  \\\n",
       "0               A Few Good Men    1992  Tom Cruise  actor  Lt. Daniel Kaffee   \n",
       "1          All the Right Moves    1983  Tom Cruise  actor  Stefen Djordjevic   \n",
       "2                American Made    2017  Tom Cruise  actor         Barry Seal   \n",
       "3                       August    2008  Tom Cruise  actor            Himself   \n",
       "4  Austin Powers in Goldmember    2002  Tom Cruise  actor            Himself   \n",
       "\n",
       "      n  year_y country       date  \n",
       "0   1.0    1992     USA 1992-12-11  \n",
       "1   1.0    1983     USA 1983-10-21  \n",
       "2   NaN    2017     USA 2017-09-29  \n",
       "3   NaN    1996     USA 1996-04-19  \n",
       "4  81.0    2002     USA 2002-07-26  "
      ]
     },
     "execution_count": 34,
     "metadata": {},
     "output_type": "execute_result"
    }
   ],
   "source": [
    "c.head()"
   ]
  },
  {
   "cell_type": "code",
   "execution_count": 35,
   "metadata": {
    "collapsed": false
   },
   "outputs": [
    {
     "data": {
      "text/plain": [
       "<matplotlib.axes._subplots.AxesSubplot at 0x7faf35181e48>"
      ]
     },
     "execution_count": 35,
     "metadata": {},
     "output_type": "execute_result"
    },
    {
     "data": {
      "image/png": "[encoded data removed]",
      "text/plain": [
       "<matplotlib.figure.Figure at 0x7faf35249048>"
      ]
     },
     "metadata": {},
     "output_type": "display_data"
    }
   ],
   "source": [
    "c['m'] = c.date.dt.month\n",
    "c.m.value_counts().sort_values().plot(kind='bar')"
   ]
  }
 ],
 "metadata": {
  "anaconda-cloud": {},
  "kernelspec": {
   "display_name": "Python [default]",
   "language": "python",
   "name": "python3"
  },
  "language_info": {
   "codemirror_mode": {
    "name": "ipython",
    "version": 3
   },
   "file_extension": ".py",
   "mimetype": "text/x-python",
   "name": "python",
   "nbconvert_exporter": "python",
   "pygments_lexer": "ipython3",
   "version": "3.5.2"
  },
  "nbpresent": {
   "slides": {
    "0748904b-bd1b-4ac1-9901-2a51341f888b": {
     "id": "0748904b-bd1b-4ac1-9901-2a51341f888b",
     "prev": "c8792564-d0de-49a5-8944-25ef36fff0fb",
     "regions": {
      "5935923b-ef11-4795-87ef-ac4b662e1948": {
       "attrs": {
        "height": 0.8,
        "width": 0.8,
        "x": 0.1,
        "y": 0.1
       },
       "content": {
        "cell": "ae8d5bb1-25d3-4a48-bbe1-7990b987465b",
        "part": "whole"
       },
       "id": "5935923b-ef11-4795-87ef-ac4b662e1948"
      }
     }
    },
    "11bcb55a-d8ae-48b6-95c9-99e5a9fed747": {
     "id": "11bcb55a-d8ae-48b6-95c9-99e5a9fed747",
     "prev": "ee13cb9f-0af7-4c06-893a-30db42112b63",
     "regions": {
      "889d696e-8d2f-4baa-9cf3-fdf8acbaa73c": {
       "attrs": {
        "height": 0.8,
        "width": 0.8,
        "x": 0.1,
        "y": 0.1
       },
       "content": {
        "cell": "4b5145fb-cf74-48fd-b9bf-5ecaffa44987",
        "part": "whole"
       },
       "id": "889d696e-8d2f-4baa-9cf3-fdf8acbaa73c"
      }
     }
    },
    "19b61fa6-3692-4946-96f6-1687e098fa97": {
     "id": "19b61fa6-3692-4946-96f6-1687e098fa97",
     "prev": "0748904b-bd1b-4ac1-9901-2a51341f888b",
     "regions": {
      "ecd06bac-46bd-4883-a5d7-a4a9533212fb": {
       "attrs": {
        "height": 0.8,
        "width": 0.8,
        "x": 0.1,
        "y": 0.1
       },
       "content": {
        "cell": "33a964bc-2f75-4d66-af87-afc4e2df1a05",
        "part": "whole"
       },
       "id": "ecd06bac-46bd-4883-a5d7-a4a9533212fb"
      }
     }
    },
    "1dfb692c-148c-4af9-acc0-3e48639ef8d3": {
     "id": "1dfb692c-148c-4af9-acc0-3e48639ef8d3",
     "prev": "7f93b4cd-fdec-4207-ab60-e74420dd4499",
     "regions": {
      "02f2b40e-e199-410a-a614-0d8ac67eaef2": {
       "attrs": {
        "height": 0.8,
        "width": 0.8,
        "x": 0.1,
        "y": 0.1
       },
       "content": {
        "cell": "cb0b1c1c-13c7-4a55-889c-3a557ff7f969",
        "part": "whole"
       },
       "id": "02f2b40e-e199-410a-a614-0d8ac67eaef2"
      }
     }
    },
    "1e6e3546-f686-422b-8bce-92c310a84fcc": {
     "id": "1e6e3546-f686-422b-8bce-92c310a84fcc",
     "prev": null,
     "regions": {
      "00f04904-15f2-44ed-8306-d201efee5fdb": {
       "attrs": {
        "height": 0.8,
        "width": 0.8,
        "x": 0.1,
        "y": 0.1
       },
       "content": {
        "cell": "ed367da6-b427-41c3-acff-549c160ec5d4",
        "part": "whole"
       },
       "id": "00f04904-15f2-44ed-8306-d201efee5fdb"
      }
     }
    },
    "200d134e-e2b2-443f-927f-d1005662f449": {
     "id": "200d134e-e2b2-443f-927f-d1005662f449",
     "prev": "7c0e3514-20fc-48e1-b0ff-747f68b71bb9",
     "regions": {
      "44fa2987-4af0-461a-8db0-1bd0c2a49bb8": {
       "attrs": {
        "height": 0.8,
        "width": 0.8,
        "x": 0.1,
        "y": 0.1
       },
       "content": {
        "cell": "fd615cbe-c658-4f91-9ce1-43547397e2a7",
        "part": "whole"
       },
       "id": "44fa2987-4af0-461a-8db0-1bd0c2a49bb8"
      }
     }
    },
    "2c7003ab-f744-4438-8892-e25d504f834f": {
     "id": "2c7003ab-f744-4438-8892-e25d504f834f",
     "prev": "2d86bbdb-3a75-4817-8d04-d295b085da4c",
     "regions": {
      "63363bb4-a819-4265-8aa3-0266a790b9fc": {
       "attrs": {
        "height": 0.8,
        "width": 0.8,
        "x": 0.1,
        "y": 0.1
       },
       "content": {
        "cell": "af4054ba-2e27-4bd3-93fe-2a46bf79751c",
        "part": "whole"
       },
       "id": "63363bb4-a819-4265-8aa3-0266a790b9fc"
      }
     }
    },
    "2d86bbdb-3a75-4817-8d04-d295b085da4c": {
     "id": "2d86bbdb-3a75-4817-8d04-d295b085da4c",
     "prev": "200d134e-e2b2-443f-927f-d1005662f449",
     "regions": {
      "afb3369e-ca76-46db-8a21-fa5c7229034f": {
       "attrs": {
        "height": 0.8,
        "width": 0.8,
        "x": 0.1,
        "y": 0.1
       },
       "content": {
        "cell": "bc6ffe25-7f67-4b89-b633-559391e6e7eb",
        "part": "whole"
       },
       "id": "afb3369e-ca76-46db-8a21-fa5c7229034f"
      }
     }
    },
    "37b07e37-9ef7-4d4d-bb3f-0e8b4c4e5884": {
     "id": "37b07e37-9ef7-4d4d-bb3f-0e8b4c4e5884",
     "prev": "11bcb55a-d8ae-48b6-95c9-99e5a9fed747",
     "regions": {
      "1636f758-d47a-4dde-8fd1-e0aa2d8bf179": {
       "attrs": {
        "height": 0.8,
        "width": 0.8,
        "x": 0.1,
        "y": 0.1
       },
       "content": {
        "cell": "d600dd49-9db3-4ab6-bac0-cc9104ce573c",
        "part": "whole"
       },
       "id": "1636f758-d47a-4dde-8fd1-e0aa2d8bf179"
      }
     }
    },
    "3e003880-684b-4ea0-b451-3b8f9a3f7b25": {
     "id": "3e003880-684b-4ea0-b451-3b8f9a3f7b25",
     "prev": "63b37451-cdd5-43a9-8245-7eea357a9946",
     "regions": {
      "b0adaa22-cbcd-4cb1-ad89-36c7c484680a": {
       "attrs": {
        "height": 0.8,
        "width": 0.8,
        "x": 0.1,
        "y": 0.1
       },
       "content": {
        "cell": "d2f2d706-253e-4963-a7ba-993991387669",
        "part": "whole"
       },
       "id": "b0adaa22-cbcd-4cb1-ad89-36c7c484680a"
      }
     }
    },
    "454587e8-826b-4344-8de2-1cc3506efa67": {
     "id": "454587e8-826b-4344-8de2-1cc3506efa67",
     "prev": "d3b8bad8-6bb8-4925-9174-defe7985bd0a",
     "regions": {
      "83c037ac-53f2-444a-9584-1dab36c3dd7c": {
       "attrs": {
        "height": 0.8,
        "width": 0.8,
        "x": 0.1,
        "y": 0.1
       },
       "content": {
        "cell": "eff3dbb9-bddc-49ee-a5dc-ca9ad175f309",
        "part": "whole"
       },
       "id": "83c037ac-53f2-444a-9584-1dab36c3dd7c"
      }
     }
    },
    "46999571-8f60-4263-adbe-3ec10b38f2dc": {
     "id": "46999571-8f60-4263-adbe-3ec10b38f2dc",
     "prev": "80c12587-5cdf-4aca-94fc-2c11d008d645",
     "regions": {
      "e015ed2c-7f42-4ffb-b392-4b402f3a0a4c": {
       "attrs": {
        "height": 0.8,
        "width": 0.8,
        "x": 0.1,
        "y": 0.1
       },
       "content": {
        "cell": "52a0194a-fadb-4845-a71f-899cc7c3cfdb",
        "part": "whole"
       },
       "id": "e015ed2c-7f42-4ffb-b392-4b402f3a0a4c"
      }
     }
    },
    "56402837-6153-40e9-9e8a-dbdf8733db19": {
     "id": "56402837-6153-40e9-9e8a-dbdf8733db19",
     "prev": "68512f22-50cb-4937-8823-464bafe8daef",
     "regions": {
      "93f1cb02-8a90-419d-afa8-ded1d0cba158": {
       "attrs": {
        "height": 0.8,
        "width": 0.8,
        "x": 0.1,
        "y": 0.1
       },
       "content": {
        "cell": "a9189101-f11e-436c-ac01-cc2269d0d7e4",
        "part": "whole"
       },
       "id": "93f1cb02-8a90-419d-afa8-ded1d0cba158"
      }
     }
    },
    "63b37451-cdd5-43a9-8245-7eea357a9946": {
     "id": "63b37451-cdd5-43a9-8245-7eea357a9946",
     "prev": "37b07e37-9ef7-4d4d-bb3f-0e8b4c4e5884",
     "regions": {
      "e1d5fb0c-e346-4d80-8d44-0c71630cfb21": {
       "attrs": {
        "height": 0.8,
        "width": 0.8,
        "x": 0.1,
        "y": 0.1
       },
       "content": {
        "cell": "7209e4f9-8a53-49d6-ad2c-53748a077bf7",
        "part": "whole"
       },
       "id": "e1d5fb0c-e346-4d80-8d44-0c71630cfb21"
      }
     }
    },
    "68512f22-50cb-4937-8823-464bafe8daef": {
     "id": "68512f22-50cb-4937-8823-464bafe8daef",
     "prev": "1e6e3546-f686-422b-8bce-92c310a84fcc",
     "regions": {
      "64261a51-dc55-4fe3-957b-2761a32bd595": {
       "attrs": {
        "height": 0.8,
        "width": 0.8,
        "x": 0.1,
        "y": 0.1
       },
       "content": {
        "cell": "6a8847aa-ad15-41fa-b75d-03f7ea12dc53",
        "part": "whole"
       },
       "id": "64261a51-dc55-4fe3-957b-2761a32bd595"
      }
     }
    },
    "75739632-c9bf-4425-ad63-623a63d7d387": {
     "id": "75739632-c9bf-4425-ad63-623a63d7d387",
     "prev": "1dfb692c-148c-4af9-acc0-3e48639ef8d3",
     "regions": {
      "0b779501-7966-4b4e-a6b8-59eb085b8522": {
       "attrs": {
        "height": 0.8,
        "width": 0.8,
        "x": 0.1,
        "y": 0.1
       },
       "content": {
        "cell": "94615c56-aa7b-4390-8336-5475e87d35a5",
        "part": "whole"
       },
       "id": "0b779501-7966-4b4e-a6b8-59eb085b8522"
      }
     }
    },
    "7c0e3514-20fc-48e1-b0ff-747f68b71bb9": {
     "id": "7c0e3514-20fc-48e1-b0ff-747f68b71bb9",
     "prev": "56402837-6153-40e9-9e8a-dbdf8733db19",
     "regions": {
      "8990b8d2-b3b3-4c49-9840-85e986bf8dc2": {
       "attrs": {
        "height": 0.8,
        "width": 0.8,
        "x": 0.1,
        "y": 0.1
       },
       "content": {
        "cell": "e19ec8dd-e073-4eca-bfdc-7ddb6e036f7c",
        "part": "whole"
       },
       "id": "8990b8d2-b3b3-4c49-9840-85e986bf8dc2"
      }
     }
    },
    "7f93b4cd-fdec-4207-ab60-e74420dd4499": {
     "id": "7f93b4cd-fdec-4207-ab60-e74420dd4499",
     "prev": "3e003880-684b-4ea0-b451-3b8f9a3f7b25",
     "regions": {
      "2d1d0430-9b1d-46ab-8ee6-f9e81001cf3c": {
       "attrs": {
        "height": 0.8,
        "width": 0.8,
        "x": 0.1,
        "y": 0.1
       },
       "content": {
        "cell": "d087370c-6ca2-4ff0-af41-7b0cc7efd674",
        "part": "whole"
       },
       "id": "2d1d0430-9b1d-46ab-8ee6-f9e81001cf3c"
      }
     }
    },
    "80c12587-5cdf-4aca-94fc-2c11d008d645": {
     "id": "80c12587-5cdf-4aca-94fc-2c11d008d645",
     "prev": "e2b2b2aa-8aeb-4e1e-9e0f-dc756c6e93c8",
     "regions": {
      "76facb44-1a0f-4267-87c5-b5866a2337a4": {
       "attrs": {
        "height": 0.8,
        "width": 0.8,
        "x": 0.1,
        "y": 0.1
       },
       "content": {
        "cell": "c979b7f6-7e66-4917-b588-ae75562eb3dc",
        "part": "whole"
       },
       "id": "76facb44-1a0f-4267-87c5-b5866a2337a4"
      }
     }
    },
    "c1f59899-95d0-4721-8116-ca13ec962f9d": {
     "id": "c1f59899-95d0-4721-8116-ca13ec962f9d",
     "prev": "19b61fa6-3692-4946-96f6-1687e098fa97",
     "regions": {
      "bd0e5842-90b4-4608-a0ae-11bce841c2b2": {
       "attrs": {
        "height": 0.8,
        "width": 0.8,
        "x": 0.1,
        "y": 0.1
       },
       "content": {
        "cell": "4c0b078a-8de6-4dd4-bcab-be3b5c9660f2",
        "part": "whole"
       },
       "id": "bd0e5842-90b4-4608-a0ae-11bce841c2b2"
      }
     }
    },
    "c4188417-c3dc-42b5-8ccd-e0f332e016a7": {
     "id": "c4188417-c3dc-42b5-8ccd-e0f332e016a7",
     "prev": "ddcf3bb9-58c9-4278-a902-5fd03fadb028",
     "regions": {
      "c8c3e2dd-6d50-4f4b-b2eb-add19ad7e425": {
       "attrs": {
        "height": 0.8,
        "width": 0.8,
        "x": 0.1,
        "y": 0.1
       },
       "content": {
        "cell": "305ec04c-11b1-45ec-bc87-25adc4b23b30",
        "part": "whole"
       },
       "id": "c8c3e2dd-6d50-4f4b-b2eb-add19ad7e425"
      }
     }
    },
    "c8792564-d0de-49a5-8944-25ef36fff0fb": {
     "id": "c8792564-d0de-49a5-8944-25ef36fff0fb",
     "prev": "46999571-8f60-4263-adbe-3ec10b38f2dc",
     "regions": {
      "441c953d-152d-4715-b846-9acd4caa245b": {
       "attrs": {
        "height": 0.8,
        "width": 0.8,
        "x": 0.1,
        "y": 0.1
       },
       "content": {
        "cell": "2b802a93-4dd8-495c-89fe-99ac7e731f1e",
        "part": "whole"
       },
       "id": "441c953d-152d-4715-b846-9acd4caa245b"
      }
     }
    },
    "d3b8bad8-6bb8-4925-9174-defe7985bd0a": {
     "id": "d3b8bad8-6bb8-4925-9174-defe7985bd0a",
     "prev": "c1f59899-95d0-4721-8116-ca13ec962f9d",
     "regions": {
      "044c04df-b74a-4d01-a499-eb847c011f53": {
       "attrs": {
        "height": 0.8,
        "width": 0.8,
        "x": 0.1,
        "y": 0.1
       },
       "content": {
        "cell": "dad739b0-9c24-4917-8747-5984117926ee",
        "part": "whole"
       },
       "id": "044c04df-b74a-4d01-a499-eb847c011f53"
      }
     }
    },
    "ddcf3bb9-58c9-4278-a902-5fd03fadb028": {
     "id": "ddcf3bb9-58c9-4278-a902-5fd03fadb028",
     "prev": "454587e8-826b-4344-8de2-1cc3506efa67",
     "regions": {
      "a432a290-cc4b-42ef-b708-e40fbd68bbb3": {
       "attrs": {
        "height": 0.8,
        "width": 0.8,
        "x": 0.1,
        "y": 0.1
       },
       "content": {
        "cell": "5b517dc5-4518-47a4-b910-4cc1fa7e7058",
        "part": "whole"
       },
       "id": "a432a290-cc4b-42ef-b708-e40fbd68bbb3"
      }
     }
    },
    "e2b2b2aa-8aeb-4e1e-9e0f-dc756c6e93c8": {
     "id": "e2b2b2aa-8aeb-4e1e-9e0f-dc756c6e93c8",
     "prev": "75739632-c9bf-4425-ad63-623a63d7d387",
     "regions": {
      "a5b6d868-dc1e-42f0-9ffe-f9a07d63b2af": {
       "attrs": {
        "height": 0.8,
        "width": 0.8,
        "x": 0.1,
        "y": 0.1
       },
       "content": {
        "cell": "2203fb3a-0f22-4645-bc34-9fe803387c7b",
        "part": "whole"
       },
       "id": "a5b6d868-dc1e-42f0-9ffe-f9a07d63b2af"
      }
     }
    },
    "ee13cb9f-0af7-4c06-893a-30db42112b63": {
     "id": "ee13cb9f-0af7-4c06-893a-30db42112b63",
     "prev": "2c7003ab-f744-4438-8892-e25d504f834f",
     "regions": {
      "33be9c4d-b634-4b37-ab05-5ab499a1ff73": {
       "attrs": {
        "height": 0.8,
        "width": 0.8,
        "x": 0.1,
        "y": 0.1
       },
       "content": {
        "cell": "03255c8f-31ae-490f-90c7-22eecbeb8053",
        "part": "whole"
       },
       "id": "33be9c4d-b634-4b37-ab05-5ab499a1ff73"
      }
     }
    }
   },
   "themes": {}
  }
 },
 "nbformat": 4,
 "nbformat_minor": 0
}
